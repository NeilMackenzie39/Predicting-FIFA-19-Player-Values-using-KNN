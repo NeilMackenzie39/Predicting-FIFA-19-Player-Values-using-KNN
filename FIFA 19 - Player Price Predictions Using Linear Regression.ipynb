{
 "cells": [
  {
   "cell_type": "markdown",
   "metadata": {},
   "source": [
    "# Predicting the value of players in FIFA 19 using KNN \n",
    "---\n",
    "Written by Neil Mackenzie"
   ]
  },
  {
   "cell_type": "markdown",
   "metadata": {},
   "source": [
    "# Introduction\n",
    "\n",
    "Following a [project](https://github.com/NeilMackenzie39/Predicting-Car-Prices-using-KNN) on the use of KNN to predict car prices, I decided to try combining the use of machine learning with one of my passions: soccer. In this project I will use the skills I have learnt thus far in the Dataquest.io 'Data Scientist in Python' [course](https://www.dataquest.io/path/data-scientist/) to build a model that will predict the value of a player in FIFA 19 based on 10 of the player's attributes. The players will be categorized as forwards, midfielders, defenders and goalkeepers and the 10 best features to predict a player's value for each category will be identified and used to make predictions for players belonging to each category.\n",
    "\n",
    "The steps used are summarised below:\n",
    "1. Preview the dataset\n",
    "2. Perform data cleaning to reduce the size of the dataset and remove null values\n",
    "3. Convert columns containing numerical information in string format to integer/float format\n",
    "4. Assign numerical information to categorical data\n",
    "5. Normalize the data\n",
    "6. Categorize players as forwards, midfielders, defenders or goalkeepers\n",
    "6. Identify 10 most accurate attributes to predict player value for each category\n",
    "7. Predict the value of players in each category using only the top 10 features identifed in (6)\n",
    "8. Plot and analyze the results\n",
    "\n",
    "The primary purpose of this project is to practice the implementation of KNN. The price of each player in the game is already known so there is no need to predict their value. Nonetheless, running trough this code will be useful to practice the impemenation of a KNN model. \n",
    "\n",
    "Once this project is completed, I intend to use the skills I have learned to build a model that will predict the price of custom stainless steel components that are designed at my current company. My intention is to use KNN to predict a component's price based on its complexity and identify how we can reduce the cost of components by reducing the presence/number of features that add to the cost significantly.\n",
    "\n",
    "I also intend to expand on this project by using linear regression to predict the value of a player and compare the accuracy achieved between KNN and linear regression. This will be done in a future project.\n",
    "\n",
    "The complete dataset for players in FIFA 2019 is available on [this](https://www.kaggle.com/karangadiya/fifa19) Kaggle page.\n",
    "\n",
    "Let's get started with step 1 above"
   ]
  },
  {
   "cell_type": "markdown",
   "metadata": {},
   "source": [
    "# 1. Import and preview dataset\n",
    "The dataset is read and previewed in the code blocks below"
   ]
  },
  {
   "cell_type": "code",
   "execution_count": null,
   "metadata": {
    "scrolled": true
   },
   "outputs": [],
   "source": [
    "#Import libraries and FIFA 19 player stats csv\n",
    "import pandas as pd\n",
    "import matplotlib.pyplot as plt\n",
    "import numpy as np\n",
    "#Import display to improve display of dataframes in code blocks\n",
    "from IPython.display import display, HTML\n",
    "\n",
    "data = pd.read_csv('data.csv')"
   ]
  },
  {
   "cell_type": "code",
   "execution_count": null,
   "metadata": {
    "scrolled": true
   },
   "outputs": [],
   "source": [
    "#Check number of columns in dataframe\n",
    "num_col = len(data.columns)\n",
    "print(\"Number of columns in dataframe:\",num_col)"
   ]
  },
  {
   "cell_type": "code",
   "execution_count": null,
   "metadata": {
    "scrolled": true
   },
   "outputs": [],
   "source": [
    "#Unhide all columns and then preview first 5 rows of dataframe to indentify columns\n",
    "pd.options.display.max_columns = num_col\n",
    "data.head()"
   ]
  },
  {
   "cell_type": "code",
   "execution_count": null,
   "metadata": {
    "scrolled": true
   },
   "outputs": [],
   "source": [
    "#Assign all columns to variable and then preview columns\n",
    "stats_columns = data.columns\n",
    "stats_columns"
   ]
  },
  {
   "cell_type": "markdown",
   "metadata": {},
   "source": [
    "# 2. Data Cleaning\n",
    "## Reduce size of dataframe by removing unsued columns\n",
    "After reviewing the columns in the dataframe above, it appears that some columns will not be very useful when predicting the price of a player. All of these columns are dropped in the cell below to reduce the size of the dataframe."
   ]
  },
  {
   "cell_type": "code",
   "execution_count": null,
   "metadata": {
    "scrolled": true
   },
   "outputs": [],
   "source": [
    "#Drop columns that are not useful for price prediction\n",
    "dropped_cols = ['Unnamed: 0', 'ID', 'Photo', 'Nationality', 'Flag','Club Logo','Real Face','Body Type']\n",
    "data_updated = data.drop(dropped_cols, axis = 1)\n",
    "\n",
    "#Print preview of dataframe to ensure above code has executed correctly\n",
    "data_updated.head()"
   ]
  },
  {
   "cell_type": "markdown",
   "metadata": {},
   "source": [
    "## Handle missing information\n",
    "The KNN algorithm will not be able to work with the data is there are missing values in the columns fed to the algorithm because it will attempt to evaluate a Euclidean distance from data that does not exist. To remove the potential for this error, lets handle entries with missing information.\n",
    "\n",
    "### Remove rows with missing position information\n",
    "This project requires every player to be categorized as either a forward, midfielder, defender or goalkeeper. The easiest way to do this is to categorize a player according to his position.\n",
    "\n",
    "Unfortunately, the position of some players is listed as 'nan' i.e. not available. Filling in this inormation is possible but would require an in-depth knowledge of every player in the game. Manually entering missing positions would also be a time consuming process, so I have decided to remove these players from the dataframe."
   ]
  },
  {
   "cell_type": "code",
   "execution_count": null,
   "metadata": {
    "scrolled": true
   },
   "outputs": [],
   "source": [
    "#Drop all rows of players with missing position information:\n",
    "data_na_pos_removed = data_updated.dropna(subset = ['Position'])\n",
    "# data_na_pos_removed\n",
    "print(\"Rows in dataframe before removing missing position information:\",len(data_updated))\n",
    "print(\"Rows in dataframe after dropping rows with missing position information:\",len(data_na_pos_removed))"
   ]
  },
  {
   "cell_type": "markdown",
   "metadata": {},
   "source": [
    "### Check for other missing information\n",
    "The rows with missing player position information have been removed. Lets check for any other missing information in the dataframe:"
   ]
  },
  {
   "cell_type": "code",
   "execution_count": null,
   "metadata": {
    "scrolled": false
   },
   "outputs": [],
   "source": [
    "#Function to check for missing information in any column:\n",
    "def check_na_vals(dataframe):\n",
    "    return dataframe[dataframe.isna().any(axis = 1)]\n",
    "\n",
    "rows_with_na = check_na_vals(data_na_pos_removed)"
   ]
  },
  {
   "cell_type": "code",
   "execution_count": null,
   "metadata": {},
   "outputs": [],
   "source": [
    "#Function to use display options to show only 10 rows but also indicate number of rows below dataframe\n",
    "def display_10_rows(dataframe):\n",
    "    with pd.option_context('display.max_rows', 10):\n",
    "            display(dataframe)\n",
    "            \n",
    "display_10_rows(rows_with_na)"
   ]
  },
  {
   "cell_type": "markdown",
   "metadata": {},
   "source": [
    "### Remove columns containing null values (if appropriate)\n",
    "The code above returned all 18147 rows of the current dataframe, indicating that at least 1 NaN value was contained in every row. From inspection, the above dataframe regularly contains NaN values in the 'Joined' and 'Loaned From' columns.\n",
    "\n",
    "I don't see any reason why those columns would have any major impact on a player's price, so lets drop those columns and then check for null values again:"
   ]
  },
  {
   "cell_type": "code",
   "execution_count": null,
   "metadata": {
    "scrolled": false
   },
   "outputs": [],
   "source": [
    "#Remove Joined and Loaned columns\n",
    "data_cols_removed = data_na_pos_removed.drop(['Joined','Loaned From'], axis = 1)\n",
    "\n",
    "#Check for missing information in any other columns:\n",
    "rows_with_na = check_na_vals(data_cols_removed)\n",
    "\n",
    "#See first 10 rows of dataframe containing na values:\n",
    "display_10_rows(rows_with_na)"
   ]
  },
  {
   "cell_type": "markdown",
   "metadata": {},
   "source": [
    "### Remove rating by position columns\n",
    "The dataframe above contains just 3404 rows with NaN values whereas the dataframe contained 18 147 rows after removing missing position information. This indicates we have identified that approximately 19% of the rows in the dataframe contain missing information. This is a large portion of the dataframe so if possible, it would be better to avoid simply all of this information.\n",
    "\n",
    "Upon reviewing the information in the 20 rows printed above, it seems the most (if not all) the missing information is in the columns that indicate a player's rating for specific positions. Since each player has a primary position indiacted in the 'Position' column as well as an overall rating and a detailed breakdown of their states, it seems feasible to drop the columns containing a player's rating for each position they can/do play in. In this project, players are only going to be categorized as forwards, midfielders, defenders and goalkeepers so the difference between a player's rating as a striker or centre forward (both forward positions) does not change the fact that he will be categorized as a forward.\n",
    "\n",
    "Lets remove all rating-by-position columns and see if there is still any missing information remaining"
   ]
  },
  {
   "cell_type": "code",
   "execution_count": null,
   "metadata": {
    "scrolled": false
   },
   "outputs": [],
   "source": [
    "#Remove rating-by-position columns\n",
    "remove_cols = ['LS','ST','RS','LW','LF','CF','RF','RW','LAM','CAM','RAM','LM','LCM','CM',\n",
    "                    'RCM','RM','LWB','LDM','CDM','RDM','RWB','LB','LCB','CB','RCB','RB']\n",
    "data_positions_removed = data_cols_removed.drop(columns = remove_cols)\n",
    "\n",
    "#Check for missing information in any other columns:\n",
    "rows_with_na = check_na_vals(data_positions_removed)\n",
    "\n",
    "#See first 10 rows of dataframe containing na values:\n",
    "display_10_rows(rows_with_na)"
   ]
  },
  {
   "cell_type": "markdown",
   "metadata": {},
   "source": [
    "### Fill NaN values in \"Release Clause\" Column\n",
    "With the ratings-by-position columns removed, the dataframe still contains 18147 rows. There are still 1504 rows with missing data which need to be inspected and modified or removed.\n",
    "\n",
    "Upon inspection of the above dataframe, there seem to be a large number of rows with NaN values in the \"Release Clause\" column. This column could contain important contractual information if it isn't empty, so it is important not to just remove it. I assume NaN values in this column usually mean that a player does not have a release clause, so lets fill NaN values with the integer value 0 and then check for null values again"
   ]
  },
  {
   "cell_type": "code",
   "execution_count": null,
   "metadata": {
    "scrolled": false
   },
   "outputs": [],
   "source": [
    "#Fill null values in Release Caluse column with 0\n",
    "data_release_filled = data_positions_removed.fillna({\"Release Clause\" : 0})\n",
    "\n",
    "#Check for missing information in any other columns:\n",
    "rows_with_na = check_na_vals(data_release_filled)\n",
    "\n",
    "#See first 10 rows of dataframe containing na values:\n",
    "display_10_rows(rows_with_na)"
   ]
  },
  {
   "cell_type": "markdown",
   "metadata": {},
   "source": [
    "### Remove players with no price information\n",
    "Great progress! There are now just 229 rows with missing information in the entire dataframe!\n",
    "\n",
    "It is immediately clear that many of the players with missing information in the dataframe above have no information in the \"Club\" column. It is also clear from the first few rows that many of these players are also missing a price in the \"Value\" column. \n",
    "\n",
    "Since the KNN algorithm will be trained to predict the \"Price\" column, we cannot have 0 values in that column. It is therefore necessary to remove all rows with 0 values in the \"Value\" column before training the KNN model. Removing these values could also result in removing rows with missing information in other columns such as missing details in the \"Club\" column.\n",
    "\n",
    "We'll then convert all valid 'Value' entries to integers. To do this, we first need to remove the currency character and any other text characters to effectively isolate values not equal to 0. The values can then be mupltiplied to have the correct order before being converted to the integer datatype."
   ]
  },
  {
   "cell_type": "code",
   "execution_count": null,
   "metadata": {
    "scrolled": true
   },
   "outputs": [],
   "source": [
    "#Remove € character from \"Values\" column\n",
    "data_release_filled['Value'] = data_release_filled['Value'].str.replace('€','')\n",
    "\n",
    "#Remove K and M characters from \"Values\" column after multiplying to get correct order\n",
    "data_release_filled['Value'] = data_release_filled['Value'].replace({'.5K':'500',\n",
    "                                                                     'K':'000',\n",
    "                                                                     '.5M':'500000',\n",
    "                                                                     'M':'000000'}, \n",
    "                                                                    regex = True).map(pd.eval).astype(int)\n",
    "\n",
    "# Remove rows with 0 in \"Value\" column\n",
    "players_with_value = data_release_filled[data_release_filled['Value'] != 0]"
   ]
  },
  {
   "cell_type": "code",
   "execution_count": null,
   "metadata": {
    "scrolled": true
   },
   "outputs": [],
   "source": [
    "#Check for null values in updated dataframe:\n",
    "print(\"Number of rows containing null values:\",players_with_value.isna().any(axis = 1).sum())"
   ]
  },
  {
   "cell_type": "code",
   "execution_count": null,
   "metadata": {
    "scrolled": true
   },
   "outputs": [],
   "source": [
    "#Print number of rows in dataframe with data in 'Value' column and preview this dataframe\n",
    "print(\"Number of rows in dataframe with no missing values\",len(players_with_value))\n",
    "\n",
    "players_with_value.head()"
   ]
  },
  {
   "cell_type": "markdown",
   "metadata": {},
   "source": [
    "There are now no rows with missing information, so we can continue to select the appropriate data for the KNN algorithm"
   ]
  },
  {
   "cell_type": "markdown",
   "metadata": {},
   "source": [
    "### Assess range of player values and remove players with very low value\n",
    "Lets review some statistics on player values in the dataframe. Extreme outliers could cause major prediction errors from the KNN model so these will be removed before we continue."
   ]
  },
  {
   "cell_type": "code",
   "execution_count": null,
   "metadata": {
    "scrolled": true
   },
   "outputs": [],
   "source": [
    "#Print statistics overview\n",
    "players_with_value['Value'].describe().apply(lambda x: format(x, 'f'))"
   ]
  },
  {
   "cell_type": "code",
   "execution_count": null,
   "metadata": {
    "scrolled": true
   },
   "outputs": [],
   "source": [
    "#Plot frequency of player value ranges in €5 million intervals\n",
    "fig = plt.figure(figsize = (10,7))\n",
    "#Use 20 bins of player values. Value divided by 10^6 so x-axis units are in millions\n",
    "(players_with_value['Value']/10**6).plot.hist(bins = 20)\n",
    "plt.ticklabel_format(style = 'plain', axis = 'x')\n",
    "plt.xticks(np.arange(0,125,10))\n",
    "plt.xlabel('Player values (€M)')\n",
    "plt.show()"
   ]
  },
  {
   "cell_type": "markdown",
   "metadata": {},
   "source": [
    "The stats and graph above clearly show that a huge number of players have a value of below €5M. These players are unlikely to be considered by top football clubs and will also heavily skew the training data in the KNN algorithm. Lets plot the chart above again for players valued above €5M"
   ]
  },
  {
   "cell_type": "code",
   "execution_count": null,
   "metadata": {
    "scrolled": true
   },
   "outputs": [],
   "source": [
    "#Assign players with value > €5 million to new dataframe\n",
    "above_5m = players_with_value[players_with_value['Value'] >= 5000000]\n",
    "\n",
    "#Check no. players in new dataframe\n",
    "print(\"Players with value above €5 000 000:\" , len(above_5m))"
   ]
  },
  {
   "cell_type": "code",
   "execution_count": null,
   "metadata": {
    "scrolled": true
   },
   "outputs": [],
   "source": [
    "#Plot frequency of player value ranges above €5 million\n",
    "fig = plt.figure(figsize = (10,7))\n",
    "#Use 20 bins of player values. Value divided by 10^6 so x-axis units are in millions\n",
    "(above_5m['Value']/10**6).plot.hist(bins = 20)\n",
    "plt.ticklabel_format(style = 'plain', axis = 'x')\n",
    "plt.xticks(np.arange(0,125,10))\n",
    "plt.xlabel('Player values (€M)')\n",
    "plt.show()"
   ]
  },
  {
   "cell_type": "markdown",
   "metadata": {},
   "source": [
    "The chart above still shows the majority of the players have values below €15M but the range looks more realistic for the training of a KNN model. The cleaned dataset of players with values has been reduced from 17907 players to 2302 players with a value of €15M."
   ]
  },
  {
   "cell_type": "markdown",
   "metadata": {},
   "source": [
    "# 3. Convert numerical inforamtion stored as strings to correct data format\n",
    "KNN can only measure how 'close' two numerical values are in the feature space. Since there are a number of columns with text data, these features will need to be converted to numerical data to be used with the KNN algorithm. "
   ]
  },
  {
   "cell_type": "code",
   "execution_count": null,
   "metadata": {
    "scrolled": false
   },
   "outputs": [],
   "source": [
    "#Define list of attributes that will be used for training.\n",
    "attributes = list(above_5m.columns)\n",
    "remove_attributes = ['Name','Age','Club','Special','Preferred Foot']\n",
    "attributes = [attr for attr in attributes if attr not in remove_attributes]\n",
    "\n",
    "#Check datatype of every column to identify which contain string values\n",
    "above_5m[attributes].dtypes"
   ]
  },
  {
   "cell_type": "markdown",
   "metadata": {},
   "source": [
    "The 'Wage', 'Work Rate', 'Contract Valid Until', 'Height', 'Weight' and 'Release Clause' columns need to be either removed, cleaned and converted to text or be assigned numerical values based on the text data contained in the column. Lets have a look at the types of values in each of those columns to decide on how to proceed. Note the 'Position' column column also contains text data but this column will only be used to categorize players and not to predict their value."
   ]
  },
  {
   "cell_type": "code",
   "execution_count": null,
   "metadata": {
    "scrolled": true
   },
   "outputs": [],
   "source": [
    "#Print some of the data contained in columns containing text \n",
    "#to investigate how to convert these columns to integers\n",
    "print(\"Unique values in text columns:\")\n",
    "print(\"Wage:\", above_5m['Wage'][0:6])\n",
    "print(\"Wage:\", above_5m['Wage'].unique())\n",
    "print(\"\\nContract Valid Until:\", above_5m['Contract Valid Until'].unique())\n",
    "print(\"\\nHeight:\", above_5m['Height'].unique())\n",
    "print(\"\\nWeight:\", above_5m['Weight'].unique())\n",
    "print(\"\\nRelease Clause:\\n\", above_5m['Release Clause'][0:5])"
   ]
  },
  {
   "cell_type": "markdown",
   "metadata": {},
   "source": [
    "The data in the columns listed above will be handled as described below:\n",
    "\n",
    "#### Wage\n",
    "Similar to what was done with the 'Value' column earlier on, the Euro and 'K' characters will be removed. The scale of the number must first be correct (X1000 because of 'K' character) and can then be converted to an integer.\n",
    "\n",
    "#### Work Rate\n",
    "This column contains categorical data that can be converted to numerical values. This is handled in section 4 below.\n",
    "\n",
    "#### Contract Valid Until\n",
    "This column could be important since the length of a player's contract will greatly effect his value to the club. This column will therefore need to be converted into an integer. I will convert the date into a number of days from the current date. For simplicity, only the year will be used from this column\n",
    "\n",
    "#### Height\n",
    "Remove feet and inches characters and convert height to cm\n",
    "\n",
    "#### Weight\n",
    "remove 'lbs' text and convert to kg and float datatype\n",
    "\n",
    "#### Release clause\n",
    "Remove text characters and convert to float. Null values also exist in these columns so they will need to be replaced. Because of a lack of further information, null valus will be replaced by 0.   "
   ]
  },
  {
   "cell_type": "code",
   "execution_count": null,
   "metadata": {
    "scrolled": false
   },
   "outputs": [],
   "source": [
    "import re\n",
    "#Turn off SettingWithCopyWarning\n",
    "pd.options.mode.chained_assignment = None  # default='warn\n",
    "\n",
    "\n",
    "#Remove € character from \"Wage\" column\n",
    "above_5m['Wage'] = above_5m['Wage'].str.replace('€','')\n",
    "\n",
    "#Remove K character from \"Wage\" column after multiplying to get correct order\n",
    "above_5m['Wage'] = above_5m['Wage'].replace({'K':'000'}, \n",
    "                                            regex = True).map(pd.eval).astype(int)\n",
    "\n",
    "\n",
    "#Extract only year in 'Contract Valid Until' column\n",
    "pattern = r'(\\d{4})'\n",
    "years = above_5m['Contract Valid Until'].str.extract(pattern).copy()\n",
    "above_5m['Contract Valid Until'] = years\n",
    "above_5m['Contract Valid Until'] = above_5m['Contract Valid Until'].fillna(0).astype(int)\n",
    "\n",
    "#Remove extra characters in \"Weight\" column\n",
    "mass_lbs = above_5m['Weight'].str.replace('lbs','').astype(float)\n",
    "above_5m['Weight'] = round(mass_lbs*0.453592,2)\n",
    "\n",
    "\n",
    "#Remove text characters in \"Release Clause\" column and convert to float\n",
    "above_5m['Release Clause'] = above_5m['Release Clause'].str.replace('€','').str.replace(\n",
    "    'M','').str.replace('K','').astype(float)\n",
    "above_5m['Release Clause'] = above_5m['Release Clause'].fillna(0)\n",
    "\n",
    "#Convert height to cm\n",
    "feet_inches = above_5m['Height'].str.split(\"'\",expand = True).astype(int)\n",
    "cm = feet_inches[0]*30.48 + feet_inches[1]/12*30.48\n",
    "above_5m['Height'] = cm\n",
    "\n",
    "above_5m.head(10)"
   ]
  },
  {
   "cell_type": "markdown",
   "metadata": {},
   "source": [
    "# 4. Assign numerical information to categorical data\n",
    "As mentioned in section (3), the work rate column contains categorical information that can be converted to numerical data. The values in this column are either 'Low', 'Medium' or 'High'. To allow easy use of the KNN algorithm, these values will be converted into integers (1 for Low, 3 for High). \n",
    "\n",
    "According to [this](https://www.reddit.com/r/FIFA/comments/3znwub/beginners_guide_work_rates/) webpage, each player has an attacking and defensive work rate separated by a slash. The format of the work rate is given as attacking/defensive. Since there are two values given in this column, the final work rate will then be taken as the average of a player's attacking and defensive work rates."
   ]
  },
  {
   "cell_type": "code",
   "execution_count": null,
   "metadata": {},
   "outputs": [],
   "source": [
    "# #Assign numerical values to 'Work Rate' column\n",
    "work_rate_cleanup = {'Low/ Low': (1+1)/2, 'Low/ Medium': (1+2)/2,'Medium/ Low':(2+1)/2,\n",
    "                     'Low/ High':(1+3)/2,'High/ Low':(3+1)/2, 'Medium/ Medium': (2+2)/2, \n",
    "                     'High/ Medium': (3+2)/2, 'Medium/ High': (2+3)/2, 'High/ High': (3+3)/2}\n",
    "\n",
    "above_5m['Work Rate'].replace(work_rate_cleanup, inplace = True)\n"
   ]
  },
  {
   "cell_type": "markdown",
   "metadata": {},
   "source": [
    "## Data cleaning complete!\n",
    "There are now no rows with missing information. Lets confirm the length of the updated dataframe and preview it:"
   ]
  },
  {
   "cell_type": "markdown",
   "metadata": {},
   "source": [
    "# 5. Normalization\n",
    "If all values in the dataframe had the same scale, normalization would not be necessary. In this case, most columns are on a 0-100 scale but are not. The conversion of 'Work Rate' and 'Contract Valid Until' columns in the cell above result in two examples of columns that are not on the 0-100 scale.\n",
    "\n",
    "In order to use KNN accurately, the data fed in to the algorithm must be on the same scale so lets normalize the dataframe:"
   ]
  },
  {
   "cell_type": "code",
   "execution_count": null,
   "metadata": {},
   "outputs": [],
   "source": [
    "#List of columns that won't be normalized\n",
    "non_data_cols = ['Name','Club','Position','Wage', 'Preferred Foot', 'Value']\n",
    "#Create normalized dataframe with columns to be normalized for players valued above €5M\n",
    "normalized_attributes = [attr for attr in above_5m.columns if attr not in non_data_cols]\n",
    "normalized = above_5m[normalized_attributes]\n",
    "\n",
    "#Do the normalization\n",
    "normalized = (normalized - normalized.min()) / (\n",
    "    normalized.max() - normalized.min())\n",
    "\n",
    "#Add columns that were removed before normalization back to the dataframe\n",
    "normalized = pd.concat([above_5m[non_data_cols],normalized], axis = 1)\n",
    "\n",
    "#Preview normalized dataframe\n",
    "normalized.head()"
   ]
  },
  {
   "cell_type": "markdown",
   "metadata": {},
   "source": [
    "# 6. Categorize players into new dataframes according to position\n",
    "The players in the dataset can now be assigned to separate 'forwards', 'midfielders', 'defenders' and 'goalkeepers' dataframes which will be used independently to train models according to each of the four position categories."
   ]
  },
  {
   "cell_type": "code",
   "execution_count": null,
   "metadata": {
    "scrolled": false
   },
   "outputs": [],
   "source": [
    "#Preview unique positions in dataframe in order to isolate according to each dataframe\n",
    "positions = normalized['Position'].unique()\n",
    "positions"
   ]
  },
  {
   "cell_type": "markdown",
   "metadata": {},
   "source": [
    "The players categorization of players according to the position is guided by [this](https://fifafootballvideogames.fandom.com/wiki/Soccer_positions) webpage. The categorization approach is summarized in the table below:\n",
    "\n",
    "|Position (Abbreviated)|Position|Category\n",
    "|---|---|---|\n",
    "LS|Left Striker|Forward\n",
    "ST|Striker|Forward\n",
    "RS|Right Striker|Forward\n",
    "LF|Left Forward|Forward\n",
    "CF|Centre Forward|Forward\n",
    "RF|Right Forward|Forward\n",
    "LAM|Left Attacking Midfielder|Midfielder\n",
    "CAM|Central Attacking Midfielder|Midfielder\n",
    "RAM|Right Attacking Midfielder|Midfielder\n",
    "LW|Left Wing|Midfielder\n",
    "RW|Right Wing|Midfielder\n",
    "LM|Left Midfielder|Midfielder\n",
    "LCM|Left Centre Midfielder|Midfielder\n",
    "CM|Centre Midfielder|Midfielder\n",
    "RCM|Right Centre Midfielder|Midfielder\n",
    "RM|Right Midfielder|Midfielder\n",
    "LDM|Left Defensive Midfielder|Midfielder\n",
    "CDM|Centre Defensive Midfielder|Midfielder\n",
    "RDM|Right Defensive Midfielder|Midfielder\n",
    "LWB|Left Wingback|Defender\n",
    "RWB|Right Wingback|Defender\n",
    "LB|Left Back|Defender\n",
    "LCB|Left Centre Back|Defender\n",
    "CB|Centre Back|Defender\n",
    "RCB|Right Centre Back|Defender\n",
    "RB|Right Back|Defender\n",
    "GK|Goalkeeper|Goalkeeper\n"
   ]
  },
  {
   "cell_type": "code",
   "execution_count": null,
   "metadata": {
    "scrolled": true
   },
   "outputs": [],
   "source": [
    "#Lists of positions in each category\n",
    "list_forwards = ['LS','ST','RS','LF','CF','RF']\n",
    "list_midfielders = ['LAM','CAM','RAM','LW','RW','LM','LCM','CM','RCM','RM','LDM','CDM','RDM']\n",
    "list_defenders = ['LWB','RWB','LB','LCB','RCB','RB']\n",
    "list_goalkeepers = ['GK']\n",
    "\n",
    "#Create new dataframes of players categorised according to position\n",
    "forwards = normalized[normalized['Position'].isin(list_forwards)]\n",
    "midfielders = normalized[normalized['Position'].isin(list_midfielders)]\n",
    "defenders = normalized[normalized['Position'].isin(list_defenders)]\n",
    "goalkeepers = normalized[normalized['Position'].isin(list_goalkeepers)] "
   ]
  },
  {
   "cell_type": "markdown",
   "metadata": {},
   "source": [
    "The players have now been isolated into separate dataframes according to their position on the field. Out of interest, lets see how many players are in each of these dataframes."
   ]
  },
  {
   "cell_type": "code",
   "execution_count": null,
   "metadata": {
    "scrolled": true
   },
   "outputs": [],
   "source": [
    "print('Number of forwards:',len(forwards))\n",
    "print('Number of midfielders:',len(midfielders))\n",
    "print('Number of defenders:',len(defenders))\n",
    "print('Number of goalkeepers:',len(goalkeepers))"
   ]
  },
  {
   "cell_type": "markdown",
   "metadata": {},
   "source": [
    "# 7.1 Identify 10 most relevant attributes for predicting player value\n",
    "The 10 attributes that most accurately predict a player's value will be determined for each category. \n",
    "\n",
    "The number of features to use could be optimised by checking the RMSE value associated with each number of attributes. Using this method, the attributes should be added to the test in order of their individual accuracy. This method would add complexity and is not explored in this code."
   ]
  },
  {
   "cell_type": "markdown",
   "metadata": {},
   "source": [
    "## Identify correlation coefficients between features and 'Value' column\n",
    "A function to find the RMS value for a given feature using the KNN algorithm is defined below. This function therefore represents a univariate KNN algorithm and will be used to determine the most accurate price predictors for each category of players"
   ]
  },
  {
   "cell_type": "code",
   "execution_count": null,
   "metadata": {},
   "outputs": [],
   "source": [
    "from sklearn.linear_model import LinearRegression\n",
    "\n",
    "#Assign all column names to attributes variable\n",
    "attributes = list(normalized.columns)\n",
    "\n",
    "#Remove unwanted but potentially useful data columns from \n",
    "#attributes to creat list of coulmns for training\n",
    "remove_attributes = ['Name','Age','Club','Special','Wage','Preferred Foot','Position']\n",
    "train_attributes = [attr for attr in attributes if attr not in remove_attributes]\n",
    "\n",
    "#Function to sort correlation between each attribute and value\n",
    "def get_corr(dataset):\n",
    "    train_subset = dataset[train_attributes]\n",
    "    corr_matrix = train_subset.corr()\n",
    "    sorted_corrs = corr_matrix['Value'].abs().sort_values(ascending = False)\n",
    "    \n",
    "    #Return top top attributes\n",
    "    return sorted_corrs\n",
    "\n",
    "fwd_corrs = get_corr(forwards)\n",
    "mid_corrs = get_corr(midfielders)\n",
    "def_corrs = get_corr(defenders)\n",
    "gk_corrs = get_corr(goalkeepers)"
   ]
  },
  {
   "cell_type": "code",
   "execution_count": null,
   "metadata": {},
   "outputs": [],
   "source": [
    "#Isolate 10 features with highest correlation \n",
    "#Slice from 1 because value contained at 0 index \n",
    "#represents correlation between 'Value' and 'Value' (always 1)\n",
    "fwd_strong_corrs = fwd_corrs[1:11]\n",
    "mid_strong_corrs = mid_corrs[1:11]\n",
    "def_strong_corrs = def_corrs[1:11]\n",
    "gk_strong_corrs = gk_corrs[1:11]"
   ]
  },
  {
   "cell_type": "code",
   "execution_count": null,
   "metadata": {},
   "outputs": [],
   "source": [
    "lr = LinearRegression()\n",
    "\n",
    "def predict(dataset,attributes):\n",
    "    lr.fit(dataset[attributes],dataset['Value'])\n",
    "    dataset['Predicted Value']  = (lr.predict(dataset[attributes])).round(1)\n",
    "#     dataset = pd.concat([dataset.iloc[:,0:6],dataset['Predicted Value'],dataset.iloc[:,6:-1]], axis = 1)\n",
    "    dataset['% Difference'] = round((dataset['Value']-dataset['Predicted Value'])/dataset['Value']*100,2)\n",
    "    predictions = dataset[['Name','Value','Predicted Value','% Difference']]\n",
    "    return predictions\n",
    "    \n",
    "fwd_predictions = predict(forwards,fwd_strong_corrs.index.tolist())\n",
    "mid_predictions = predict(midfielders,mid_strong_corrs.index.tolist())\n",
    "def_predictions = predict(defenders,def_strong_corrs.index.tolist())\n",
    "gk_predictions = predict(goalkeepers,gk_strong_corrs.index.tolist())\n",
    "\n",
    "gk_predictions"
   ]
  },
  {
   "cell_type": "markdown",
   "metadata": {},
   "source": [
    "## Run univariate KNN for each attribute and each category of player\n",
    "The code below will run the KNN algorithm defined in the code cell above to determine the RMSE value by using every attribute in the dataframe to predict a player's price. \n",
    "\n",
    "The code could be greatly improved by logically selecting which features to use for predictions based on each category of player (Goalkeeping Reflexes would not be a useful attribute for predicting the value of a striker). In the interest of making progress in the code, I will assume the user has no knowledge of which attributes are useful for each position and simply use them all."
   ]
  },
  {
   "cell_type": "code",
   "execution_count": null,
   "metadata": {
    "scrolled": true
   },
   "outputs": [],
   "source": [
    "#Assign all column names to attributes variable\n",
    "attributes = list(normalized.columns)\n",
    "\n",
    "#Remove unwanted but potentially useful data columns from \n",
    "#attributes to creat list of coulmns for training\n",
    "remove_attributes = ['Name','Age','Value','Club','Special','Wage','Preferred Foot','Position']\n",
    "train_attributes = [attr for attr in attributes if attr not in remove_attributes]\n",
    "\n",
    "#Function to determine RMSE for each attribute\n",
    "def get_RMSE(dataframe):\n",
    "    #Create dictionary of RMSE value associated with each attribute\n",
    "    RMSEs = {}\n",
    "    for attribute in train_attributes:\n",
    "        rmse = KNN_uni(dataframe,attribute)\n",
    "        RMSEs[attribute] = rmse\n",
    "    \n",
    "    #Create tuple of dictionary so that it can be sorted according to RMSE\n",
    "    rmse_tuple = RMSEs.items()\n",
    "    rmse_tuple = sorted(rmse_tuple,key=lambda x: x[1])\n",
    "    \n",
    "    #Create and return dataframe of top 10 predictors \n",
    "    top_10 = pd.DataFrame(rmse_tuple[0:10], columns = ['Attribute','RMSE'])\n",
    "    return top_10\n",
    "\n",
    "#Run get_RMSE function to get RMSE value for each category of player\n",
    "top_10_forwards = get_RMSE(forwards)\n",
    "top_10_midfielders = get_RMSE(midfielders)\n",
    "top_10_defenders = get_RMSE(defenders)\n",
    "top_10_goalkeepers = get_RMSE(goalkeepers)       "
   ]
  },
  {
   "cell_type": "code",
   "execution_count": null,
   "metadata": {},
   "outputs": [],
   "source": [
    "#Check number of attributes that were used to train the model"
   ]
  },
  {
   "cell_type": "code",
   "execution_count": null,
   "metadata": {},
   "outputs": [],
   "source": [
    "print(len(train_attributes))"
   ]
  },
  {
   "cell_type": "code",
   "execution_count": null,
   "metadata": {
    "scrolled": true
   },
   "outputs": [],
   "source": [
    "#Use display() function to display dataframes as tables\n",
    "print(\"Top 10 predictors for forwards:\")\n",
    "display(top_10_forwards)\n",
    "print(\"===============================\")\n",
    "\n",
    "print(\"\\nTop 10 predictors for midfielders:\")\n",
    "display(top_10_midfielders)\n",
    "print(\"===============================\")\n",
    "\n",
    "print(\"\\nTop 10 predictors for defenders:\")\n",
    "display(top_10_defenders)\n",
    "print(\"===============================\")\n",
    "\n",
    "print(\"\\nTop 10 predictors for goalkeepers:\")\n",
    "display(top_10_goalkeepers)\n",
    "print(\"===============================\")"
   ]
  },
  {
   "cell_type": "code",
   "execution_count": null,
   "metadata": {
    "scrolled": true
   },
   "outputs": [],
   "source": [
    "#Create list of top 10 attributes for each category from the relevant dataframes\n",
    "\n",
    "fwd_predictors = top_10_forwards['Attribute'].tolist()\n",
    "mid_predictors = top_10_midfielders['Attribute'].tolist()\n",
    "def_predictors = top_10_defenders['Attribute'].tolist()\n",
    "gk_predictors = top_10_goalkeepers['Attribute'].tolist()"
   ]
  },
  {
   "cell_type": "markdown",
   "metadata": {},
   "source": [
    "# 8. Predict player value using KNN\n",
    "The top 10 attributes to predict the value of players in each category have now been determined. To test the accuracy of using just these 10 attributes to predict the price of each player, lets assume the price of each player was not known and predict their value based on the KNN model."
   ]
  },
  {
   "cell_type": "code",
   "execution_count": null,
   "metadata": {
    "scrolled": false
   },
   "outputs": [],
   "source": [
    "#Define KNN function to predict player value based on top 10 relevant attributes\n",
    "def knn_predict(dataframe,predictors):\n",
    "    knn = KNeighborsRegressor()\n",
    " \n",
    "    #Train using set of attributes sent to function\n",
    "    knn.fit(dataframe[predictors],dataframe['Value'])\n",
    "    \n",
    "#     Run prediction of player value using set of attributes sent to function.\n",
    "#     Add these predicted values as well as the error compared to the \n",
    "#     true FIFA 19 value to a new dataframe\n",
    "    \n",
    "    predicted = dataframe[['Name','Value']]\n",
    "    predicted['Predicted'] = knn.predict(dataframe[predictors])\n",
    "    predicted['% Difference'] = round(((predicted['Value']-predicted['Predicted'])/predicted['Predicted'])*100,2)\n",
    "    \n",
    "    #Return predicted values sorted by % difference to FIFA 19 value\n",
    "    return(predicted.sort_values('% Difference', ascending = False))\n",
    "\n",
    "fwd_prices = knn_predict(forwards,fwd_predictors)\n",
    "mid_prices = knn_predict(midfielders,mid_predictors)\n",
    "def_prices = knn_predict(defenders,def_predictors)\n",
    "gk_prices = knn_predict(goalkeepers,gk_predictors)                      "
   ]
  },
  {
   "cell_type": "markdown",
   "metadata": {},
   "source": [
    "# 9. Data Visualization\n",
    "Predictions have been made using the 10 best predictive features of player value for the dataset. Lets now plot the % difference between the predicted value and the actual FIFA 19 value to visualize the accuracy of using 10 features to predict a player's value"
   ]
  },
  {
   "cell_type": "code",
   "execution_count": null,
   "metadata": {
    "scrolled": false
   },
   "outputs": [],
   "source": [
    "fig = plt.figure(figsize = (7,20))\n",
    "\n",
    "#Function to plot % Difference column for dataframe sent to function\n",
    "def plot(dataframe,category,plot_pos):\n",
    "    ax = fig.add_subplot(4,1,plot_pos)\n",
    "    ax.hist(dataframe['% Difference'])\n",
    "    ax.set_xlabel('Difference between predicted price & FIFA 19 price (%)')\n",
    "    ax.set_ylabel('Frequency')\n",
    "    ax.set_title('Percentage difference in predicted price for ' + category)\n",
    "    fig.tight_layout()\n",
    "\n",
    "#Create plots for each dataframe\n",
    "plot(fwd_prices,'forwards',1)\n",
    "plot(mid_prices,'midfielders',2)\n",
    "plot(def_prices,'defenders',3)\n",
    "plot(gk_prices,'goalkeepers',4)"
   ]
  },
  {
   "cell_type": "markdown",
   "metadata": {},
   "source": [
    "# Statistics \n",
    "The charts above show surprisingly good accuracy is achieved when predicting a player's value for the top 10 attributes that predict values in the relevant category. The prediction of value for all categories follow a normal distrbution centred near a 0% difference between predicted value and FIFA 19 value.\n",
    "\n",
    "Lets have a look at the summary statistics for the % Difference between predicted value and FIFA 19 for each category:"
   ]
  },
  {
   "cell_type": "code",
   "execution_count": null,
   "metadata": {},
   "outputs": [],
   "source": [
    "print(\"\"\"Summary stats for % Difference between value predicted using top 10 features\n",
    "and FIFA 19 value:\"\"\")\n",
    "\n",
    "for i,j in (fwd_prices,'Forwards'), (mid_prices,'Midfilers'), (\n",
    "    def_prices,'Defenders'), (gk_prices,'Goalkeerps'):\n",
    "    print(\"\\n=========================================================================\")\n",
    "    print(j)\n",
    "    print(\"=========================================================================\")\n",
    "    print(i['% Difference'].describe())"
   ]
  },
  {
   "cell_type": "markdown",
   "metadata": {},
   "source": [
    "From the stats above we can see that, in general, a player's value can be predicted fairly accurately using just 10 of the 45 that were used tested in the univariate KNN model earlier on."
   ]
  },
  {
   "cell_type": "markdown",
   "metadata": {},
   "source": [
    "# Conclusion\n",
    "In this project, the value of players categorized as forwards, midfielders, defenders and goalkeepers in FIFA 19 was predicted using just 10 out of 45 player attributes. \n",
    "\n",
    "It was found that just 10 relevant features is enough to accurately predict the value of a player in the game. The average difference between the predicted value and actual value in FIFA 19 is summarized for each category below:\n",
    "\n",
    "|Category|% Difference (Predicted vs FIFA 19)|\n",
    "|---|---|\n",
    "|Forwards|0.33|\n",
    "|Midfielders|0.09|\n",
    "|Defenders|0.13|\n",
    "|Goalkeepers|0.78|\n",
    "\n",
    "This project has been incredibly valuable practice in data cleaning, pandas, KNN and matplotlib. As mentioned in the introduction, this project will be revisited in future to compare the accuracy of predictions made using KNN vs linear regression.\n",
    "\n",
    "With better knowledge about the implementation of KNN, I now intend to build a model to analyze which attributes of stainless steel components designed at my current job contribute to their cost most significantly. This information can  be used to a) reduce the complexity of our designs to reduce cost and b) predict the cost of a component based on its design features."
   ]
  }
 ],
 "metadata": {
  "kernelspec": {
   "display_name": "Python 3",
   "language": "python",
   "name": "python3"
  },
  "language_info": {
   "codemirror_mode": {
    "name": "ipython",
    "version": 3
   },
   "file_extension": ".py",
   "mimetype": "text/x-python",
   "name": "python",
   "nbconvert_exporter": "python",
   "pygments_lexer": "ipython3",
   "version": "3.7.3"
  }
 },
 "nbformat": 4,
 "nbformat_minor": 2
}
